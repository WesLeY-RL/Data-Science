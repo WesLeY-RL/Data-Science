{
  "nbformat": 4,
  "nbformat_minor": 0,
  "metadata": {
    "colab": {
      "provenance": []
    },
    "kernelspec": {
      "name": "python3",
      "display_name": "Python 3"
    },
    "language_info": {
      "name": "python"
    }
  },
  "cells": [
    {
      "cell_type": "code",
      "source": [
        "import pandas as pd\n",
        "import numpy as np\n",
        "import matplotlib.pyplot as plt\n"
      ],
      "metadata": {
        "id": "G20X6DZYyrBp"
      },
      "execution_count": null,
      "outputs": []
    },
    {
      "cell_type": "code",
      "execution_count": null,
      "metadata": {
        "id": "VqishmIoypLT"
      },
      "outputs": [],
      "source": [
        "\n",
        "data = {\n",
        "    'ano': [2000, 2001, 2002, 2003, 2004, 2005, 2006, 2007, 2008, 2009,\n",
        "            2010, 2011, 2012, 2013, 2014, 2015, 2016, 2017, 2018, 2019],\n",
        "    'valor': [10, 12, 15, 20, 22, 25, 28, 30, 32, 35,\n",
        "              40, 42, 45, 48, 50, 52, 55, 58, 60, 62]\n",
        "}\n",
        "df = pd.DataFrame(data)\n"
      ]
    },
    {
      "cell_type": "code",
      "source": [
        "a = pd.cut( df['ano'],np.arange(df['ano'].min(), df['ano'].max(), 2))"
      ],
      "metadata": {
        "id": "exa8zpSAyxu_"
      },
      "execution_count": null,
      "outputs": []
    },
    {
      "cell_type": "code",
      "source": [
        "print(df.groupby(a)['valor'].mean())"
      ],
      "metadata": {
        "colab": {
          "base_uri": "https://localhost:8080/"
        },
        "id": "HkcfU61ny1XT",
        "outputId": "4742907b-2f1f-40d5-ca92-4de706f57070"
      },
      "execution_count": null,
      "outputs": [
        {
          "output_type": "stream",
          "name": "stdout",
          "text": [
            "ano\n",
            "(2000, 2002]    13.5\n",
            "(2002, 2004]    21.0\n",
            "(2004, 2006]    26.5\n",
            "(2006, 2008]    31.0\n",
            "(2008, 2010]    37.5\n",
            "(2010, 2012]    43.5\n",
            "(2012, 2014]    49.0\n",
            "(2014, 2016]    53.5\n",
            "(2016, 2018]    59.0\n",
            "Name: valor, dtype: float64\n"
          ]
        }
      ]
    },
    {
      "cell_type": "code",
      "source": [
        "y =  pd.cut( a['yr_built'],np.arange(a['yr_built'].min(), a['yr_built'].max(), 5))\n",
        "y_ = a.groupby(a)['price'].mean()"
      ],
      "metadata": {
        "id": "7uJIjkmd7qMP"
      },
      "execution_count": null,
      "outputs": []
    },
    {
      "cell_type": "code",
      "source": [
        "y =  pd.cut( a['yr_built'],np.arange(a['yr_built'].min(), a['yr_built'].max(), 20))\n",
        "y_ = a.groupby(a)['price'].mean()\n",
        "plt.scatter(x, y_, label = \"Média dos  valores em 20 anos\" )\n",
        "plt.xlabel('anos')\n",
        "plt.ylabel('Média de Preços')\n",
        "plt.xticks(rotation='vertical')\n",
        "plt.legend()\n",
        "plt.show()\n",
        "print(tabela)"
      ],
      "metadata": {
        "id": "0GNScM4K8T_g"
      },
      "execution_count": null,
      "outputs": []
    },
    {
      "cell_type": "code",
      "source": [
        "import pandas as pd\n",
        "\n",
        "# DataFrame de exemplo\n",
        "data = {\n",
        "    'ano': [2003, 2001, 2002, 2003, 2004, 2005, 2006, 2007, 2009, 2009,\n",
        "            2010, 2010, 2011, 2013, 2014, 2015, 2016, 2017, 2018, 2019],\n",
        "    'valor': [10, 12, 15, 20, 22, 25, 28, 30, 32, 35,\n",
        "              40, 42, 45, 48, 50, 52, 55, 58, 60, 62]\n",
        "}\n",
        "df = pd.DataFrame(data)\n",
        "\n",
        "# Adicionando uma coluna 'intervalo'\n",
        "df['intervalo'] = pd.cut(df['ano'], bins=range(df['ano'].min(), df['ano'].max() + 6, 5),\n",
        "                         labels=[f\"{i}-{i+4}\" for i in range(df['ano'].min(), df['ano'].max(), 5)], right=False)\n",
        "\n",
        "# Agrupando os dados e calculando a média para cada intervalo\n",
        "resultado = df.groupby('intervalo')['valor'].mean().reset_index()\n",
        "\n",
        "# Mostrando os intervalos de 5 anos com as médias correspondentes\n",
        "for index, row in resultado.iterrows():\n",
        "    intervalo = row['intervalo']\n",
        "    media = row['valor']\n",
        "\n",
        "    print(f\"Intervalo: {intervalo}\")\n",
        "    print(f\"Média dos Valores: {media}\")\n",
        "    print(\"=\"*50)\n"
      ],
      "metadata": {
        "id": "t9wDdjyIBJyB",
        "outputId": "cf1784c9-571e-4b59-c686-c11db2c2d8ec",
        "colab": {
          "base_uri": "https://localhost:8080/"
        }
      },
      "execution_count": null,
      "outputs": [
        {
          "output_type": "stream",
          "name": "stdout",
          "text": [
            "Intervalo: 2001-2005\n",
            "Média dos Valores: 17.333333333333332\n",
            "==================================================\n",
            "Intervalo: 2006-2010\n",
            "Média dos Valores: 34.5\n",
            "==================================================\n",
            "Intervalo: 2011-2015\n",
            "Média dos Valores: 48.75\n",
            "==================================================\n",
            "Intervalo: 2016-2020\n",
            "Média dos Valores: 58.75\n",
            "==================================================\n"
          ]
        }
      ]
    }
  ]
}